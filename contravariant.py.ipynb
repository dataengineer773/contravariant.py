{
 "cells": [
  {
   "cell_type": "code",
   "execution_count": 1,
   "id": "584fe857-9308-4746-a465-8b73988477c4",
   "metadata": {},
   "outputs": [],
   "source": [
    "from typing import TypeVar, Generic"
   ]
  },
  {
   "cell_type": "code",
   "execution_count": 2,
   "id": "3f8fee32-3591-4fd8-a120-d39d959a0de4",
   "metadata": {},
   "outputs": [],
   "source": [
    "class Refuse:\n",
    "    \"\"\"Any refuse.\"\"\"\n",
    "\n",
    "class Biodegradable(Refuse):\n",
    "    \"\"\"Biodegradable refuse.\"\"\"\n",
    "\n",
    "class Compostable(Biodegradable):\n",
    "    \"\"\"Compostable refuse.\"\"\""
   ]
  },
  {
   "cell_type": "code",
   "execution_count": 3,
   "id": "a4d2f3aa-3b6b-4735-a24c-91b86163821a",
   "metadata": {},
   "outputs": [],
   "source": [
    "T_contra = TypeVar('T_CONTRA', contravariant=True)"
   ]
  },
  {
   "cell_type": "code",
   "execution_count": 4,
   "id": "dfde6055-7508-4d78-b864-9a5936317cd8",
   "metadata": {},
   "outputs": [],
   "source": [
    "class TrashCan(Generic[T_contra]):\n",
    "    def put(self, refuse: T_contra) -> None:\n",
    "        \"\"\"Store trash can unit dumped\"\"\""
   ]
  },
  {
   "cell_type": "code",
   "execution_count": 5,
   "id": "9761aa9d-3ec3-4fe8-8419-b1c71824efa9",
   "metadata": {},
   "outputs": [],
   "source": [
    "def deploy(trash_can: TrashCan[Biodegradable]):\n",
    "    \"\"\"Deploy a trash can for biodegradable refuse.\"\"\"\n",
    "    "
   ]
  },
  {
   "cell_type": "code",
   "execution_count": null,
   "id": "3ab60b75-e881-47bb-91fb-9e22a3057ff3",
   "metadata": {},
   "outputs": [],
   "source": []
  }
 ],
 "metadata": {
  "kernelspec": {
   "display_name": "Python 3 (ipykernel)",
   "language": "python",
   "name": "python3"
  },
  "language_info": {
   "codemirror_mode": {
    "name": "ipython",
    "version": 3
   },
   "file_extension": ".py",
   "mimetype": "text/x-python",
   "name": "python",
   "nbconvert_exporter": "python",
   "pygments_lexer": "ipython3",
   "version": "3.12.3"
  }
 },
 "nbformat": 4,
 "nbformat_minor": 5
}
